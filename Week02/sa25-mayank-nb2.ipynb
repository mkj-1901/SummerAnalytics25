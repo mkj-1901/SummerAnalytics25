{
 "cells": [
  {
   "cell_type": "code",
   "execution_count": 1,
   "id": "71406583",
   "metadata": {
    "_cell_guid": "b1076dfc-b9ad-4769-8c92-a6c4dae69d19",
    "_uuid": "8f2839f25d086af736a60e9eeb907d3b93b6e0e5",
    "execution": {
     "iopub.execute_input": "2025-06-11T07:33:54.542866Z",
     "iopub.status.busy": "2025-06-11T07:33:54.542565Z",
     "iopub.status.idle": "2025-06-11T07:33:56.557267Z",
     "shell.execute_reply": "2025-06-11T07:33:56.556281Z"
    },
    "papermill": {
     "duration": 2.020558,
     "end_time": "2025-06-11T07:33:56.558849",
     "exception": false,
     "start_time": "2025-06-11T07:33:54.538291",
     "status": "completed"
    },
    "tags": []
   },
   "outputs": [
    {
     "name": "stdout",
     "output_type": "stream",
     "text": [
      "/kaggle/input/summer-analytics-mid-hackathon/hacktest.csv\n",
      "/kaggle/input/summer-analytics-mid-hackathon/hacktrain.csv\n"
     ]
    }
   ],
   "source": [
    "# This Python 3 environment comes with many helpful analytics libraries installed\n",
    "# It is defined by the kaggle/python Docker image: https://github.com/kaggle/docker-python\n",
    "# For example, here's several helpful packages to load\n",
    "\n",
    "import numpy as np # linear algebra\n",
    "import pandas as pd # data processing, CSV file I/O (e.g. pd.read_csv)\n",
    "\n",
    "# Input data files are available in the read-only \"../input/\" directory\n",
    "# For example, running this (by clicking run or pressing Shift+Enter) will list all files under the input directory\n",
    "\n",
    "import os\n",
    "for dirname, _, filenames in os.walk('/kaggle/input'):\n",
    "    for filename in filenames:\n",
    "        print(os.path.join(dirname, filename))\n",
    "\n",
    "# You can write up to 20GB to the current directory (/kaggle/working/) that gets preserved as output when you create a version using \"Save & Run All\" \n",
    "# You can also write temporary files to /kaggle/temp/, but they won't be saved outside of the current session"
   ]
  },
  {
   "cell_type": "code",
   "execution_count": 2,
   "id": "6f952adc",
   "metadata": {
    "execution": {
     "iopub.execute_input": "2025-06-11T07:33:56.566762Z",
     "iopub.status.busy": "2025-06-11T07:33:56.565887Z",
     "iopub.status.idle": "2025-06-11T07:33:58.441167Z",
     "shell.execute_reply": "2025-06-11T07:33:58.440358Z"
    },
    "papermill": {
     "duration": 1.880375,
     "end_time": "2025-06-11T07:33:58.442673",
     "exception": false,
     "start_time": "2025-06-11T07:33:56.562298",
     "status": "completed"
    },
    "tags": []
   },
   "outputs": [],
   "source": [
    "import pandas as pd\n",
    "import numpy as np\n",
    "from sklearn.base import BaseEstimator, TransformerMixin\n",
    "from sklearn.impute import SimpleImputer\n",
    "from sklearn.preprocessing import StandardScaler, LabelEncoder\n",
    "from sklearn.linear_model import LogisticRegression\n",
    "from sklearn.pipeline import Pipeline\n"
   ]
  },
  {
   "cell_type": "code",
   "execution_count": 3,
   "id": "fbef9260",
   "metadata": {
    "execution": {
     "iopub.execute_input": "2025-06-11T07:33:58.449348Z",
     "iopub.status.busy": "2025-06-11T07:33:58.448889Z",
     "iopub.status.idle": "2025-06-11T07:33:58.552705Z",
     "shell.execute_reply": "2025-06-11T07:33:58.551680Z"
    },
    "papermill": {
     "duration": 0.109012,
     "end_time": "2025-06-11T07:33:58.554398",
     "exception": false,
     "start_time": "2025-06-11T07:33:58.445386",
     "status": "completed"
    },
    "tags": []
   },
   "outputs": [
    {
     "name": "stdout",
     "output_type": "stream",
     "text": [
      "<class 'pandas.core.frame.DataFrame'>\n",
      "RangeIndex: 8000 entries, 0 to 7999\n",
      "Data columns (total 30 columns):\n",
      " #   Column      Non-Null Count  Dtype  \n",
      "---  ------      --------------  -----  \n",
      " 0   Unnamed: 0  8000 non-null   int64  \n",
      " 1   ID          8000 non-null   int64  \n",
      " 2   class       8000 non-null   object \n",
      " 3   20150720_N  7440 non-null   float64\n",
      " 4   20150602_N  6800 non-null   float64\n",
      " 5   20150517_N  7200 non-null   float64\n",
      " 6   20150501_N  7040 non-null   float64\n",
      " 7   20150415_N  7520 non-null   float64\n",
      " 8   20150330_N  6880 non-null   float64\n",
      " 9   20150314_N  7280 non-null   float64\n",
      " 10  20150226_N  6640 non-null   float64\n",
      " 11  20150210_N  7360 non-null   float64\n",
      " 12  20150125_N  6960 non-null   float64\n",
      " 13  20150109_N  7120 non-null   float64\n",
      " 14  20141117_N  6720 non-null   float64\n",
      " 15  20141101_N  7600 non-null   float64\n",
      " 16  20141016_N  6560 non-null   float64\n",
      " 17  20140930_N  7200 non-null   float64\n",
      " 18  20140813_N  7440 non-null   float64\n",
      " 19  20140626_N  6400 non-null   float64\n",
      " 20  20140610_N  7520 non-null   float64\n",
      " 21  20140525_N  7280 non-null   float64\n",
      " 22  20140509_N  7120 non-null   float64\n",
      " 23  20140423_N  6240 non-null   float64\n",
      " 24  20140407_N  7360 non-null   float64\n",
      " 25  20140322_N  6880 non-null   float64\n",
      " 26  20140218_N  6560 non-null   float64\n",
      " 27  20140202_N  7440 non-null   float64\n",
      " 28  20140117_N  6800 non-null   float64\n",
      " 29  20140101_N  7600 non-null   float64\n",
      "dtypes: float64(27), int64(2), object(1)\n",
      "memory usage: 1.8+ MB\n"
     ]
    }
   ],
   "source": [
    "df = pd.read_csv('/kaggle/input/summer-analytics-mid-hackathon/hacktrain.csv')\n",
    "df.info()"
   ]
  },
  {
   "cell_type": "code",
   "execution_count": 4,
   "id": "3f4b3e21",
   "metadata": {
    "execution": {
     "iopub.execute_input": "2025-06-11T07:33:58.561885Z",
     "iopub.status.busy": "2025-06-11T07:33:58.561584Z",
     "iopub.status.idle": "2025-06-11T07:33:58.573962Z",
     "shell.execute_reply": "2025-06-11T07:33:58.572840Z"
    },
    "papermill": {
     "duration": 0.018166,
     "end_time": "2025-06-11T07:33:58.575500",
     "exception": false,
     "start_time": "2025-06-11T07:33:58.557334",
     "status": "completed"
    },
    "tags": []
   },
   "outputs": [],
   "source": [
    "class NDVIPreprocessor(BaseEstimator, TransformerMixin):\n",
    "    def __init__(self):\n",
    "        self.date_cols = []\n",
    "        self.season_map = {}\n",
    "        self.season_groups = {}\n",
    "        self.imputers = {}\n",
    "        self.fitted = False\n",
    "\n",
    "    def fit(self, X, y=None):\n",
    "        self.date_cols = [col for col in X.columns if '_N' in col]\n",
    "        self.date_map = {col: pd.to_datetime(col.split('_')[0], format='%Y%m%d') for col in self.date_cols}\n",
    "    \n",
    "        self.renamed_cols = {col: self.date_map[col] for col in self.date_cols}\n",
    "        self.sorted_dates = sorted(self.date_map.values())\n",
    "    \n",
    "        def get_season(date):\n",
    "            m = date.month\n",
    "            if m in [12, 1, 2]:\n",
    "                return 'Winter'\n",
    "            elif m in [3, 4, 5]:\n",
    "                return 'Spring'\n",
    "            elif m in [6, 7, 8]:\n",
    "                return 'Summer'\n",
    "            else:\n",
    "                return 'Fall'\n",
    "    \n",
    "        self.season_map = {d: get_season(d) for d in self.sorted_dates}\n",
    "        self.season_groups = {'Winter': [], 'Spring': [], 'Summer': [], 'Fall': []}\n",
    "        for date in self.sorted_dates:\n",
    "            self.season_groups[self.season_map[date]].append(date)\n",
    "    \n",
    "        # Fit each imputer with seasonal data\n",
    "        X_copy = X.copy()\n",
    "        X_copy = X_copy.rename(columns=self.renamed_cols)\n",
    "    \n",
    "        for season, cols in self.season_groups.items():\n",
    "            self.imputers[season] = SimpleImputer(strategy='median')\n",
    "            self.imputers[season].fit(X_copy[cols])  # THIS LINE FIXES THE ERROR\n",
    "    \n",
    "        self.fitted = True\n",
    "        return self\n",
    "\n",
    "\n",
    "    def transform(self, X):\n",
    "        assert self.fitted, \"Call fit before transform.\"\n",
    "        X_copy = X.copy()\n",
    "        X_copy = X_copy.rename(columns=self.renamed_cols)\n",
    "    \n",
    "        cols_to_keep = ['ID'] + self.sorted_dates\n",
    "        if 'class' in X_copy.columns:\n",
    "            cols_to_keep.insert(1, 'class')  # insert after ID if present\n",
    "    \n",
    "        X_copy = X_copy[cols_to_keep]\n",
    "    \n",
    "        for season, cols in self.season_groups.items():\n",
    "            imputer = self.imputers[season]\n",
    "            X_copy[cols] = imputer.transform(X_copy[cols])  # use transform, not fit_transform\n",
    "    \n",
    "        for season, cols in self.season_groups.items():\n",
    "            X_copy[f'{season}_mean'] = X_copy[cols].mean(axis=1)\n",
    "            X_copy[f'{season}_std'] = X_copy[cols].std(axis=1)\n",
    "    \n",
    "        return X_copy[[f'{s}_mean' for s in self.season_groups] +\n",
    "                      [f'{s}_std' for s in self.season_groups]]\n"
   ]
  },
  {
   "cell_type": "code",
   "execution_count": 5,
   "id": "bdcfd297",
   "metadata": {
    "execution": {
     "iopub.execute_input": "2025-06-11T07:33:58.582596Z",
     "iopub.status.busy": "2025-06-11T07:33:58.581994Z",
     "iopub.status.idle": "2025-06-11T07:33:58.588526Z",
     "shell.execute_reply": "2025-06-11T07:33:58.587601Z"
    },
    "papermill": {
     "duration": 0.012157,
     "end_time": "2025-06-11T07:33:58.590548",
     "exception": false,
     "start_time": "2025-06-11T07:33:58.578391",
     "status": "completed"
    },
    "tags": []
   },
   "outputs": [],
   "source": [
    "le = LabelEncoder()\n",
    "df['class'] = le.fit_transform(df['class'])"
   ]
  },
  {
   "cell_type": "code",
   "execution_count": 6,
   "id": "728fdbe3",
   "metadata": {
    "execution": {
     "iopub.execute_input": "2025-06-11T07:33:58.598306Z",
     "iopub.status.busy": "2025-06-11T07:33:58.597649Z",
     "iopub.status.idle": "2025-06-11T07:33:58.602898Z",
     "shell.execute_reply": "2025-06-11T07:33:58.601741Z"
    },
    "papermill": {
     "duration": 0.011241,
     "end_time": "2025-06-11T07:33:58.604644",
     "exception": false,
     "start_time": "2025-06-11T07:33:58.593403",
     "status": "completed"
    },
    "tags": []
   },
   "outputs": [],
   "source": [
    "pipeline = Pipeline([\n",
    "    ('ndvi_preprocessing', NDVIPreprocessor()),\n",
    "    ('scaler', StandardScaler()),\n",
    "    ('clf', LogisticRegression(multi_class='multinomial', solver='lbfgs', max_iter=1000))\n",
    "])"
   ]
  },
  {
   "cell_type": "code",
   "execution_count": 7,
   "id": "c9e4710b",
   "metadata": {
    "execution": {
     "iopub.execute_input": "2025-06-11T07:33:58.611401Z",
     "iopub.status.busy": "2025-06-11T07:33:58.611106Z",
     "iopub.status.idle": "2025-06-11T07:33:59.077304Z",
     "shell.execute_reply": "2025-06-11T07:33:59.074712Z"
    },
    "papermill": {
     "duration": 0.47171,
     "end_time": "2025-06-11T07:33:59.079237",
     "exception": false,
     "start_time": "2025-06-11T07:33:58.607527",
     "status": "completed"
    },
    "tags": []
   },
   "outputs": [
    {
     "data": {
      "text/html": [
       "<style>#sk-container-id-1 {color: black;background-color: white;}#sk-container-id-1 pre{padding: 0;}#sk-container-id-1 div.sk-toggleable {background-color: white;}#sk-container-id-1 label.sk-toggleable__label {cursor: pointer;display: block;width: 100%;margin-bottom: 0;padding: 0.3em;box-sizing: border-box;text-align: center;}#sk-container-id-1 label.sk-toggleable__label-arrow:before {content: \"▸\";float: left;margin-right: 0.25em;color: #696969;}#sk-container-id-1 label.sk-toggleable__label-arrow:hover:before {color: black;}#sk-container-id-1 div.sk-estimator:hover label.sk-toggleable__label-arrow:before {color: black;}#sk-container-id-1 div.sk-toggleable__content {max-height: 0;max-width: 0;overflow: hidden;text-align: left;background-color: #f0f8ff;}#sk-container-id-1 div.sk-toggleable__content pre {margin: 0.2em;color: black;border-radius: 0.25em;background-color: #f0f8ff;}#sk-container-id-1 input.sk-toggleable__control:checked~div.sk-toggleable__content {max-height: 200px;max-width: 100%;overflow: auto;}#sk-container-id-1 input.sk-toggleable__control:checked~label.sk-toggleable__label-arrow:before {content: \"▾\";}#sk-container-id-1 div.sk-estimator input.sk-toggleable__control:checked~label.sk-toggleable__label {background-color: #d4ebff;}#sk-container-id-1 div.sk-label input.sk-toggleable__control:checked~label.sk-toggleable__label {background-color: #d4ebff;}#sk-container-id-1 input.sk-hidden--visually {border: 0;clip: rect(1px 1px 1px 1px);clip: rect(1px, 1px, 1px, 1px);height: 1px;margin: -1px;overflow: hidden;padding: 0;position: absolute;width: 1px;}#sk-container-id-1 div.sk-estimator {font-family: monospace;background-color: #f0f8ff;border: 1px dotted black;border-radius: 0.25em;box-sizing: border-box;margin-bottom: 0.5em;}#sk-container-id-1 div.sk-estimator:hover {background-color: #d4ebff;}#sk-container-id-1 div.sk-parallel-item::after {content: \"\";width: 100%;border-bottom: 1px solid gray;flex-grow: 1;}#sk-container-id-1 div.sk-label:hover label.sk-toggleable__label {background-color: #d4ebff;}#sk-container-id-1 div.sk-serial::before {content: \"\";position: absolute;border-left: 1px solid gray;box-sizing: border-box;top: 0;bottom: 0;left: 50%;z-index: 0;}#sk-container-id-1 div.sk-serial {display: flex;flex-direction: column;align-items: center;background-color: white;padding-right: 0.2em;padding-left: 0.2em;position: relative;}#sk-container-id-1 div.sk-item {position: relative;z-index: 1;}#sk-container-id-1 div.sk-parallel {display: flex;align-items: stretch;justify-content: center;background-color: white;position: relative;}#sk-container-id-1 div.sk-item::before, #sk-container-id-1 div.sk-parallel-item::before {content: \"\";position: absolute;border-left: 1px solid gray;box-sizing: border-box;top: 0;bottom: 0;left: 50%;z-index: -1;}#sk-container-id-1 div.sk-parallel-item {display: flex;flex-direction: column;z-index: 1;position: relative;background-color: white;}#sk-container-id-1 div.sk-parallel-item:first-child::after {align-self: flex-end;width: 50%;}#sk-container-id-1 div.sk-parallel-item:last-child::after {align-self: flex-start;width: 50%;}#sk-container-id-1 div.sk-parallel-item:only-child::after {width: 0;}#sk-container-id-1 div.sk-dashed-wrapped {border: 1px dashed gray;margin: 0 0.4em 0.5em 0.4em;box-sizing: border-box;padding-bottom: 0.4em;background-color: white;}#sk-container-id-1 div.sk-label label {font-family: monospace;font-weight: bold;display: inline-block;line-height: 1.2em;}#sk-container-id-1 div.sk-label-container {text-align: center;}#sk-container-id-1 div.sk-container {/* jupyter's `normalize.less` sets `[hidden] { display: none; }` but bootstrap.min.css set `[hidden] { display: none !important; }` so we also need the `!important` here to be able to override the default hidden behavior on the sphinx rendered scikit-learn.org. See: https://github.com/scikit-learn/scikit-learn/issues/21755 */display: inline-block !important;position: relative;}#sk-container-id-1 div.sk-text-repr-fallback {display: none;}</style><div id=\"sk-container-id-1\" class=\"sk-top-container\"><div class=\"sk-text-repr-fallback\"><pre>Pipeline(steps=[(&#x27;ndvi_preprocessing&#x27;, NDVIPreprocessor()),\n",
       "                (&#x27;scaler&#x27;, StandardScaler()),\n",
       "                (&#x27;clf&#x27;,\n",
       "                 LogisticRegression(max_iter=1000, multi_class=&#x27;multinomial&#x27;))])</pre><b>In a Jupyter environment, please rerun this cell to show the HTML representation or trust the notebook. <br />On GitHub, the HTML representation is unable to render, please try loading this page with nbviewer.org.</b></div><div class=\"sk-container\" hidden><div class=\"sk-item sk-dashed-wrapped\"><div class=\"sk-label-container\"><div class=\"sk-label sk-toggleable\"><input class=\"sk-toggleable__control sk-hidden--visually\" id=\"sk-estimator-id-1\" type=\"checkbox\" ><label for=\"sk-estimator-id-1\" class=\"sk-toggleable__label sk-toggleable__label-arrow\">Pipeline</label><div class=\"sk-toggleable__content\"><pre>Pipeline(steps=[(&#x27;ndvi_preprocessing&#x27;, NDVIPreprocessor()),\n",
       "                (&#x27;scaler&#x27;, StandardScaler()),\n",
       "                (&#x27;clf&#x27;,\n",
       "                 LogisticRegression(max_iter=1000, multi_class=&#x27;multinomial&#x27;))])</pre></div></div></div><div class=\"sk-serial\"><div class=\"sk-item\"><div class=\"sk-estimator sk-toggleable\"><input class=\"sk-toggleable__control sk-hidden--visually\" id=\"sk-estimator-id-2\" type=\"checkbox\" ><label for=\"sk-estimator-id-2\" class=\"sk-toggleable__label sk-toggleable__label-arrow\">NDVIPreprocessor</label><div class=\"sk-toggleable__content\"><pre>NDVIPreprocessor()</pre></div></div></div><div class=\"sk-item\"><div class=\"sk-estimator sk-toggleable\"><input class=\"sk-toggleable__control sk-hidden--visually\" id=\"sk-estimator-id-3\" type=\"checkbox\" ><label for=\"sk-estimator-id-3\" class=\"sk-toggleable__label sk-toggleable__label-arrow\">StandardScaler</label><div class=\"sk-toggleable__content\"><pre>StandardScaler()</pre></div></div></div><div class=\"sk-item\"><div class=\"sk-estimator sk-toggleable\"><input class=\"sk-toggleable__control sk-hidden--visually\" id=\"sk-estimator-id-4\" type=\"checkbox\" ><label for=\"sk-estimator-id-4\" class=\"sk-toggleable__label sk-toggleable__label-arrow\">LogisticRegression</label><div class=\"sk-toggleable__content\"><pre>LogisticRegression(max_iter=1000, multi_class=&#x27;multinomial&#x27;)</pre></div></div></div></div></div></div></div>"
      ],
      "text/plain": [
       "Pipeline(steps=[('ndvi_preprocessing', NDVIPreprocessor()),\n",
       "                ('scaler', StandardScaler()),\n",
       "                ('clf',\n",
       "                 LogisticRegression(max_iter=1000, multi_class='multinomial'))])"
      ]
     },
     "execution_count": 7,
     "metadata": {},
     "output_type": "execute_result"
    }
   ],
   "source": [
    "pipeline.fit(df, df['class'])"
   ]
  },
  {
   "cell_type": "code",
   "execution_count": 8,
   "id": "844baf0c",
   "metadata": {
    "execution": {
     "iopub.execute_input": "2025-06-11T07:33:59.090178Z",
     "iopub.status.busy": "2025-06-11T07:33:59.089813Z",
     "iopub.status.idle": "2025-06-11T07:33:59.182422Z",
     "shell.execute_reply": "2025-06-11T07:33:59.181488Z"
    },
    "papermill": {
     "duration": 0.100012,
     "end_time": "2025-06-11T07:33:59.183984",
     "exception": false,
     "start_time": "2025-06-11T07:33:59.083972",
     "status": "completed"
    },
    "tags": []
   },
   "outputs": [],
   "source": [
    "test_df = pd.read_csv('/kaggle/input/summer-analytics-mid-hackathon/hacktest.csv')  # Adjust filename if needed\n",
    "preds = pipeline.predict(test_df)\n",
    "\n",
    "# Convert predictions back to original class names\n",
    "predicted_labels = le.inverse_transform(preds)"
   ]
  },
  {
   "cell_type": "code",
   "execution_count": 9,
   "id": "fb22795a",
   "metadata": {
    "execution": {
     "iopub.execute_input": "2025-06-11T07:33:59.191766Z",
     "iopub.status.busy": "2025-06-11T07:33:59.191171Z",
     "iopub.status.idle": "2025-06-11T07:33:59.205055Z",
     "shell.execute_reply": "2025-06-11T07:33:59.204087Z"
    },
    "papermill": {
     "duration": 0.019734,
     "end_time": "2025-06-11T07:33:59.206900",
     "exception": false,
     "start_time": "2025-06-11T07:33:59.187166",
     "status": "completed"
    },
    "tags": []
   },
   "outputs": [],
   "source": [
    "submission = pd.DataFrame({\n",
    "    'ID': test_df['ID'],\n",
    "    'Predicted': predicted_labels\n",
    "})\n",
    "submission.to_csv('submission.csv', index=False)"
   ]
  },
  {
   "cell_type": "code",
   "execution_count": 10,
   "id": "c256a335",
   "metadata": {
    "execution": {
     "iopub.execute_input": "2025-06-11T07:33:59.214652Z",
     "iopub.status.busy": "2025-06-11T07:33:59.214003Z",
     "iopub.status.idle": "2025-06-11T07:33:59.235120Z",
     "shell.execute_reply": "2025-06-11T07:33:59.234260Z"
    },
    "papermill": {
     "duration": 0.027135,
     "end_time": "2025-06-11T07:33:59.237153",
     "exception": false,
     "start_time": "2025-06-11T07:33:59.210018",
     "status": "completed"
    },
    "tags": []
   },
   "outputs": [
    {
     "data": {
      "text/html": [
       "<div>\n",
       "<style scoped>\n",
       "    .dataframe tbody tr th:only-of-type {\n",
       "        vertical-align: middle;\n",
       "    }\n",
       "\n",
       "    .dataframe tbody tr th {\n",
       "        vertical-align: top;\n",
       "    }\n",
       "\n",
       "    .dataframe thead th {\n",
       "        text-align: right;\n",
       "    }\n",
       "</style>\n",
       "<table border=\"1\" class=\"dataframe\">\n",
       "  <thead>\n",
       "    <tr style=\"text-align: right;\">\n",
       "      <th></th>\n",
       "      <th>ID</th>\n",
       "      <th>Predicted</th>\n",
       "    </tr>\n",
       "  </thead>\n",
       "  <tbody>\n",
       "    <tr>\n",
       "      <th>0</th>\n",
       "      <td>1</td>\n",
       "      <td>forest</td>\n",
       "    </tr>\n",
       "    <tr>\n",
       "      <th>1</th>\n",
       "      <td>2</td>\n",
       "      <td>forest</td>\n",
       "    </tr>\n",
       "    <tr>\n",
       "      <th>2</th>\n",
       "      <td>3</td>\n",
       "      <td>forest</td>\n",
       "    </tr>\n",
       "    <tr>\n",
       "      <th>3</th>\n",
       "      <td>4</td>\n",
       "      <td>forest</td>\n",
       "    </tr>\n",
       "    <tr>\n",
       "      <th>4</th>\n",
       "      <td>5</td>\n",
       "      <td>forest</td>\n",
       "    </tr>\n",
       "  </tbody>\n",
       "</table>\n",
       "</div>"
      ],
      "text/plain": [
       "   ID Predicted\n",
       "0   1    forest\n",
       "1   2    forest\n",
       "2   3    forest\n",
       "3   4    forest\n",
       "4   5    forest"
      ]
     },
     "execution_count": 10,
     "metadata": {},
     "output_type": "execute_result"
    }
   ],
   "source": [
    "subm = pd.read_csv('/kaggle/working/submission.csv')\n",
    "subm.head()"
   ]
  },
  {
   "cell_type": "code",
   "execution_count": null,
   "id": "74535632",
   "metadata": {
    "papermill": {
     "duration": 0.002831,
     "end_time": "2025-06-11T07:33:59.243502",
     "exception": false,
     "start_time": "2025-06-11T07:33:59.240671",
     "status": "completed"
    },
    "tags": []
   },
   "outputs": [],
   "source": []
  }
 ],
 "metadata": {
  "kaggle": {
   "accelerator": "none",
   "dataSources": [
    {
     "databundleVersionId": 12585144,
     "sourceId": 104491,
     "sourceType": "competition"
    }
   ],
   "dockerImageVersionId": 31040,
   "isGpuEnabled": false,
   "isInternetEnabled": true,
   "language": "python",
   "sourceType": "notebook"
  },
  "kernelspec": {
   "display_name": "Python 3",
   "language": "python",
   "name": "python3"
  },
  "language_info": {
   "codemirror_mode": {
    "name": "ipython",
    "version": 3
   },
   "file_extension": ".py",
   "mimetype": "text/x-python",
   "name": "python",
   "nbconvert_exporter": "python",
   "pygments_lexer": "ipython3",
   "version": "3.11.11"
  },
  "papermill": {
   "default_parameters": {},
   "duration": 10.396083,
   "end_time": "2025-06-11T07:33:59.967335",
   "environment_variables": {},
   "exception": null,
   "input_path": "__notebook__.ipynb",
   "output_path": "__notebook__.ipynb",
   "parameters": {},
   "start_time": "2025-06-11T07:33:49.571252",
   "version": "2.6.0"
  }
 },
 "nbformat": 4,
 "nbformat_minor": 5
}
